{
 "cells": [
  {
   "cell_type": "markdown",
   "metadata": {},
   "source": [
    "# Imports"
   ]
  },
  {
   "cell_type": "code",
   "execution_count": 1,
   "metadata": {},
   "outputs": [],
   "source": [
    "import pandas as pd\n",
    "import numpy as np\n",
    "from sklearn.impute import SimpleImputer\n",
    "import matplotlib.pyplot as plt\n",
    "import seaborn as sns\n",
    "from sklearn.compose import ColumnTransformer\n",
    "from sklearn.compose import make_column_selector as selector\n",
    "from sklearn.preprocessing import MinMaxScaler,StandardScaler,OneHotEncoder\n",
    "from sklearn.linear_model import LogisticRegression\n",
    "from sklearn.model_selection import cross_val_score,cross_val_predict, StratifiedShuffleSplit\n",
    "from sklearn.metrics import confusion_matrix,roc_curve,auc,f1_score,roc_auc_score\n",
    "from sklearn.ensemble import RandomForestClassifier\n",
    "\n",
    "from sklearn.pipeline import Pipeline\n",
    "from sklearn.model_selection import GridSearchCV\n",
    "\n"
   ]
  },
  {
   "cell_type": "markdown",
   "metadata": {},
   "source": [
    "# Model Prep"
   ]
  },
  {
   "cell_type": "code",
   "execution_count": 4,
   "metadata": {},
   "outputs": [],
   "source": [
    "ROOT_FOLDER_PATH = '/home/jupyter/data/ieee-fraud-detection'\n",
    "TRAINING_TRANSACTION_PATH = f\"{ROOT_FOLDER_PATH}/train_transaction.csv\"\n",
    "TRAINING_IDENTITY_PATH = f\"{ROOT_FOLDER_PATH}/train_identity.csv\"\n",
    "CORR_PATH = f\"{ROOT_FOLDER_PATH}/corr_imputer.csv\"\n"
   ]
  },
  {
   "cell_type": "code",
   "execution_count": 5,
   "metadata": {},
   "outputs": [],
   "source": [
    "trans_source_df = pd.read_csv(TRAINING_TRANSACTION_PATH)\n",
    "identity_source_df = pd.read_csv(TRAINING_IDENTITY_PATH)\n"
   ]
  },
  {
   "cell_type": "code",
   "execution_count": 6,
   "metadata": {},
   "outputs": [],
   "source": [
    "source_df=trans_source_df.merge(identity_source_df, on='TransactionID', how='left')"
   ]
  },
  {
   "cell_type": "code",
   "execution_count": 5,
   "metadata": {},
   "outputs": [
    {
     "name": "stdout",
     "output_type": "stream",
     "text": [
      "TransactionID NaN values present is: 0 type is : int64 % of NaN values: 0.0\n",
      "isFraud NaN values present is: 0 type is : int64 % of NaN values: 0.0\n",
      "TransactionDT NaN values present is: 0 type is : int64 % of NaN values: 0.0\n",
      "TransactionAmt NaN values present is: 0 type is : float64 % of NaN values: 0.0\n",
      "ProductCD NaN values present is: 0 type is : object % of NaN values: 0.0\n",
      "card1 NaN values present is: 0 type is : int64 % of NaN values: 0.0\n",
      "card2 NaN values present is: 8933 type is : float64 % of NaN values: 1.51\n",
      "card3 NaN values present is: 1565 type is : float64 % of NaN values: 0.27\n",
      "card4 NaN values present is: 1577 type is : object % of NaN values: 0.27\n",
      "card5 NaN values present is: 4259 type is : float64 % of NaN values: 0.72\n",
      "card6 NaN values present is: 1571 type is : object % of NaN values: 0.27\n",
      "addr1 NaN values present is: 65706 type is : float64 % of NaN values: 11.13\n",
      "addr2 NaN values present is: 65706 type is : float64 % of NaN values: 11.13\n",
      "dist1 NaN values present is: 352271 type is : float64 % of NaN values: 59.65\n",
      "dist2 NaN values present is: 552913 type is : float64 % of NaN values: 93.63\n",
      "P_emaildomain NaN values present is: 94456 type is : object % of NaN values: 15.99\n",
      "R_emaildomain NaN values present is: 453249 type is : object % of NaN values: 76.75\n",
      "C1 NaN values present is: 0 type is : float64 % of NaN values: 0.0\n",
      "C2 NaN values present is: 0 type is : float64 % of NaN values: 0.0\n",
      "C3 NaN values present is: 0 type is : float64 % of NaN values: 0.0\n",
      "C4 NaN values present is: 0 type is : float64 % of NaN values: 0.0\n",
      "C5 NaN values present is: 0 type is : float64 % of NaN values: 0.0\n",
      "C6 NaN values present is: 0 type is : float64 % of NaN values: 0.0\n",
      "C7 NaN values present is: 0 type is : float64 % of NaN values: 0.0\n",
      "C8 NaN values present is: 0 type is : float64 % of NaN values: 0.0\n",
      "C9 NaN values present is: 0 type is : float64 % of NaN values: 0.0\n",
      "C10 NaN values present is: 0 type is : float64 % of NaN values: 0.0\n",
      "C11 NaN values present is: 0 type is : float64 % of NaN values: 0.0\n",
      "C12 NaN values present is: 0 type is : float64 % of NaN values: 0.0\n",
      "C13 NaN values present is: 0 type is : float64 % of NaN values: 0.0\n",
      "C14 NaN values present is: 0 type is : float64 % of NaN values: 0.0\n",
      "D1 NaN values present is: 1269 type is : float64 % of NaN values: 0.21\n",
      "D2 NaN values present is: 280797 type is : float64 % of NaN values: 47.55\n",
      "D3 NaN values present is: 262878 type is : float64 % of NaN values: 44.51\n",
      "D4 NaN values present is: 168922 type is : float64 % of NaN values: 28.6\n",
      "D5 NaN values present is: 309841 type is : float64 % of NaN values: 52.47\n",
      "D6 NaN values present is: 517353 type is : float64 % of NaN values: 87.61\n",
      "D7 NaN values present is: 551623 type is : float64 % of NaN values: 93.41\n",
      "D8 NaN values present is: 515614 type is : float64 % of NaN values: 87.31\n",
      "D9 NaN values present is: 515614 type is : float64 % of NaN values: 87.31\n",
      "D10 NaN values present is: 76022 type is : float64 % of NaN values: 12.87\n",
      "D11 NaN values present is: 279287 type is : float64 % of NaN values: 47.29\n",
      "D12 NaN values present is: 525823 type is : float64 % of NaN values: 89.04\n",
      "D13 NaN values present is: 528588 type is : float64 % of NaN values: 89.51\n",
      "D14 NaN values present is: 528353 type is : float64 % of NaN values: 89.47\n",
      "D15 NaN values present is: 89113 type is : float64 % of NaN values: 15.09\n",
      "M1 NaN values present is: 271100 type is : object % of NaN values: 45.91\n",
      "M2 NaN values present is: 271100 type is : object % of NaN values: 45.91\n",
      "M3 NaN values present is: 271100 type is : object % of NaN values: 45.91\n",
      "M4 NaN values present is: 281444 type is : object % of NaN values: 47.66\n",
      "M5 NaN values present is: 350482 type is : object % of NaN values: 59.35\n",
      "M6 NaN values present is: 169360 type is : object % of NaN values: 28.68\n",
      "M7 NaN values present is: 346265 type is : object % of NaN values: 58.64\n",
      "M8 NaN values present is: 346252 type is : object % of NaN values: 58.63\n",
      "M9 NaN values present is: 346252 type is : object % of NaN values: 58.63\n",
      "V1 NaN values present is: 279287 type is : float64 % of NaN values: 47.29\n",
      "V2 NaN values present is: 279287 type is : float64 % of NaN values: 47.29\n",
      "V3 NaN values present is: 279287 type is : float64 % of NaN values: 47.29\n",
      "V4 NaN values present is: 279287 type is : float64 % of NaN values: 47.29\n",
      "V5 NaN values present is: 279287 type is : float64 % of NaN values: 47.29\n",
      "V6 NaN values present is: 279287 type is : float64 % of NaN values: 47.29\n",
      "V7 NaN values present is: 279287 type is : float64 % of NaN values: 47.29\n",
      "V8 NaN values present is: 279287 type is : float64 % of NaN values: 47.29\n",
      "V9 NaN values present is: 279287 type is : float64 % of NaN values: 47.29\n",
      "V10 NaN values present is: 279287 type is : float64 % of NaN values: 47.29\n",
      "V11 NaN values present is: 279287 type is : float64 % of NaN values: 47.29\n",
      "V12 NaN values present is: 76073 type is : float64 % of NaN values: 12.88\n",
      "V13 NaN values present is: 76073 type is : float64 % of NaN values: 12.88\n",
      "V14 NaN values present is: 76073 type is : float64 % of NaN values: 12.88\n",
      "V15 NaN values present is: 76073 type is : float64 % of NaN values: 12.88\n",
      "V16 NaN values present is: 76073 type is : float64 % of NaN values: 12.88\n",
      "V17 NaN values present is: 76073 type is : float64 % of NaN values: 12.88\n",
      "V18 NaN values present is: 76073 type is : float64 % of NaN values: 12.88\n",
      "V19 NaN values present is: 76073 type is : float64 % of NaN values: 12.88\n",
      "V20 NaN values present is: 76073 type is : float64 % of NaN values: 12.88\n",
      "V21 NaN values present is: 76073 type is : float64 % of NaN values: 12.88\n",
      "V22 NaN values present is: 76073 type is : float64 % of NaN values: 12.88\n",
      "V23 NaN values present is: 76073 type is : float64 % of NaN values: 12.88\n",
      "V24 NaN values present is: 76073 type is : float64 % of NaN values: 12.88\n",
      "V25 NaN values present is: 76073 type is : float64 % of NaN values: 12.88\n",
      "V26 NaN values present is: 76073 type is : float64 % of NaN values: 12.88\n",
      "V27 NaN values present is: 76073 type is : float64 % of NaN values: 12.88\n",
      "V28 NaN values present is: 76073 type is : float64 % of NaN values: 12.88\n",
      "V29 NaN values present is: 76073 type is : float64 % of NaN values: 12.88\n",
      "V30 NaN values present is: 76073 type is : float64 % of NaN values: 12.88\n",
      "V31 NaN values present is: 76073 type is : float64 % of NaN values: 12.88\n",
      "V32 NaN values present is: 76073 type is : float64 % of NaN values: 12.88\n",
      "V33 NaN values present is: 76073 type is : float64 % of NaN values: 12.88\n",
      "V34 NaN values present is: 76073 type is : float64 % of NaN values: 12.88\n",
      "V35 NaN values present is: 168969 type is : float64 % of NaN values: 28.61\n",
      "V36 NaN values present is: 168969 type is : float64 % of NaN values: 28.61\n",
      "V37 NaN values present is: 168969 type is : float64 % of NaN values: 28.61\n",
      "V38 NaN values present is: 168969 type is : float64 % of NaN values: 28.61\n",
      "V39 NaN values present is: 168969 type is : float64 % of NaN values: 28.61\n",
      "V40 NaN values present is: 168969 type is : float64 % of NaN values: 28.61\n",
      "V41 NaN values present is: 168969 type is : float64 % of NaN values: 28.61\n",
      "V42 NaN values present is: 168969 type is : float64 % of NaN values: 28.61\n",
      "V43 NaN values present is: 168969 type is : float64 % of NaN values: 28.61\n",
      "V44 NaN values present is: 168969 type is : float64 % of NaN values: 28.61\n",
      "V45 NaN values present is: 168969 type is : float64 % of NaN values: 28.61\n",
      "V46 NaN values present is: 168969 type is : float64 % of NaN values: 28.61\n",
      "V47 NaN values present is: 168969 type is : float64 % of NaN values: 28.61\n",
      "V48 NaN values present is: 168969 type is : float64 % of NaN values: 28.61\n",
      "V49 NaN values present is: 168969 type is : float64 % of NaN values: 28.61\n",
      "V50 NaN values present is: 168969 type is : float64 % of NaN values: 28.61\n",
      "V51 NaN values present is: 168969 type is : float64 % of NaN values: 28.61\n",
      "V52 NaN values present is: 168969 type is : float64 % of NaN values: 28.61\n",
      "V53 NaN values present is: 77096 type is : float64 % of NaN values: 13.06\n",
      "V54 NaN values present is: 77096 type is : float64 % of NaN values: 13.06\n",
      "V55 NaN values present is: 77096 type is : float64 % of NaN values: 13.06\n",
      "V56 NaN values present is: 77096 type is : float64 % of NaN values: 13.06\n",
      "V57 NaN values present is: 77096 type is : float64 % of NaN values: 13.06\n",
      "V58 NaN values present is: 77096 type is : float64 % of NaN values: 13.06\n",
      "V59 NaN values present is: 77096 type is : float64 % of NaN values: 13.06\n",
      "V60 NaN values present is: 77096 type is : float64 % of NaN values: 13.06\n",
      "V61 NaN values present is: 77096 type is : float64 % of NaN values: 13.06\n",
      "V62 NaN values present is: 77096 type is : float64 % of NaN values: 13.06\n",
      "V63 NaN values present is: 77096 type is : float64 % of NaN values: 13.06\n",
      "V64 NaN values present is: 77096 type is : float64 % of NaN values: 13.06\n",
      "V65 NaN values present is: 77096 type is : float64 % of NaN values: 13.06\n",
      "V66 NaN values present is: 77096 type is : float64 % of NaN values: 13.06\n",
      "V67 NaN values present is: 77096 type is : float64 % of NaN values: 13.06\n",
      "V68 NaN values present is: 77096 type is : float64 % of NaN values: 13.06\n",
      "V69 NaN values present is: 77096 type is : float64 % of NaN values: 13.06\n",
      "V70 NaN values present is: 77096 type is : float64 % of NaN values: 13.06\n",
      "V71 NaN values present is: 77096 type is : float64 % of NaN values: 13.06\n",
      "V72 NaN values present is: 77096 type is : float64 % of NaN values: 13.06\n",
      "V73 NaN values present is: 77096 type is : float64 % of NaN values: 13.06\n",
      "V74 NaN values present is: 77096 type is : float64 % of NaN values: 13.06\n",
      "V75 NaN values present is: 89164 type is : float64 % of NaN values: 15.1\n",
      "V76 NaN values present is: 89164 type is : float64 % of NaN values: 15.1\n",
      "V77 NaN values present is: 89164 type is : float64 % of NaN values: 15.1\n",
      "V78 NaN values present is: 89164 type is : float64 % of NaN values: 15.1\n",
      "V79 NaN values present is: 89164 type is : float64 % of NaN values: 15.1\n",
      "V80 NaN values present is: 89164 type is : float64 % of NaN values: 15.1\n",
      "V81 NaN values present is: 89164 type is : float64 % of NaN values: 15.1\n",
      "V82 NaN values present is: 89164 type is : float64 % of NaN values: 15.1\n",
      "V83 NaN values present is: 89164 type is : float64 % of NaN values: 15.1\n",
      "V84 NaN values present is: 89164 type is : float64 % of NaN values: 15.1\n",
      "V85 NaN values present is: 89164 type is : float64 % of NaN values: 15.1\n",
      "V86 NaN values present is: 89164 type is : float64 % of NaN values: 15.1\n",
      "V87 NaN values present is: 89164 type is : float64 % of NaN values: 15.1\n",
      "V88 NaN values present is: 89164 type is : float64 % of NaN values: 15.1\n",
      "V89 NaN values present is: 89164 type is : float64 % of NaN values: 15.1\n",
      "V90 NaN values present is: 89164 type is : float64 % of NaN values: 15.1\n",
      "V91 NaN values present is: 89164 type is : float64 % of NaN values: 15.1\n",
      "V92 NaN values present is: 89164 type is : float64 % of NaN values: 15.1\n",
      "V93 NaN values present is: 89164 type is : float64 % of NaN values: 15.1\n",
      "V94 NaN values present is: 89164 type is : float64 % of NaN values: 15.1\n",
      "V95 NaN values present is: 314 type is : float64 % of NaN values: 0.05\n",
      "V96 NaN values present is: 314 type is : float64 % of NaN values: 0.05\n",
      "V97 NaN values present is: 314 type is : float64 % of NaN values: 0.05\n",
      "V98 NaN values present is: 314 type is : float64 % of NaN values: 0.05\n",
      "V99 NaN values present is: 314 type is : float64 % of NaN values: 0.05\n",
      "V100 NaN values present is: 314 type is : float64 % of NaN values: 0.05\n",
      "V101 NaN values present is: 314 type is : float64 % of NaN values: 0.05\n",
      "V102 NaN values present is: 314 type is : float64 % of NaN values: 0.05\n",
      "V103 NaN values present is: 314 type is : float64 % of NaN values: 0.05\n",
      "V104 NaN values present is: 314 type is : float64 % of NaN values: 0.05\n",
      "V105 NaN values present is: 314 type is : float64 % of NaN values: 0.05\n",
      "V106 NaN values present is: 314 type is : float64 % of NaN values: 0.05\n",
      "V107 NaN values present is: 314 type is : float64 % of NaN values: 0.05\n",
      "V108 NaN values present is: 314 type is : float64 % of NaN values: 0.05\n",
      "V109 NaN values present is: 314 type is : float64 % of NaN values: 0.05\n",
      "V110 NaN values present is: 314 type is : float64 % of NaN values: 0.05\n",
      "V111 NaN values present is: 314 type is : float64 % of NaN values: 0.05\n",
      "V112 NaN values present is: 314 type is : float64 % of NaN values: 0.05\n",
      "V113 NaN values present is: 314 type is : float64 % of NaN values: 0.05\n",
      "V114 NaN values present is: 314 type is : float64 % of NaN values: 0.05\n",
      "V115 NaN values present is: 314 type is : float64 % of NaN values: 0.05\n",
      "V116 NaN values present is: 314 type is : float64 % of NaN values: 0.05\n",
      "V117 NaN values present is: 314 type is : float64 % of NaN values: 0.05\n",
      "V118 NaN values present is: 314 type is : float64 % of NaN values: 0.05\n",
      "V119 NaN values present is: 314 type is : float64 % of NaN values: 0.05\n",
      "V120 NaN values present is: 314 type is : float64 % of NaN values: 0.05\n",
      "V121 NaN values present is: 314 type is : float64 % of NaN values: 0.05\n",
      "V122 NaN values present is: 314 type is : float64 % of NaN values: 0.05\n",
      "V123 NaN values present is: 314 type is : float64 % of NaN values: 0.05\n",
      "V124 NaN values present is: 314 type is : float64 % of NaN values: 0.05\n",
      "V125 NaN values present is: 314 type is : float64 % of NaN values: 0.05\n",
      "V126 NaN values present is: 314 type is : float64 % of NaN values: 0.05\n",
      "V127 NaN values present is: 314 type is : float64 % of NaN values: 0.05\n",
      "V128 NaN values present is: 314 type is : float64 % of NaN values: 0.05\n",
      "V129 NaN values present is: 314 type is : float64 % of NaN values: 0.05\n",
      "V130 NaN values present is: 314 type is : float64 % of NaN values: 0.05\n",
      "V131 NaN values present is: 314 type is : float64 % of NaN values: 0.05\n",
      "V132 NaN values present is: 314 type is : float64 % of NaN values: 0.05\n",
      "V133 NaN values present is: 314 type is : float64 % of NaN values: 0.05\n",
      "V134 NaN values present is: 314 type is : float64 % of NaN values: 0.05\n",
      "V135 NaN values present is: 314 type is : float64 % of NaN values: 0.05\n",
      "V136 NaN values present is: 314 type is : float64 % of NaN values: 0.05\n",
      "V137 NaN values present is: 314 type is : float64 % of NaN values: 0.05\n",
      "V138 NaN values present is: 508595 type is : float64 % of NaN values: 86.12\n",
      "V139 NaN values present is: 508595 type is : float64 % of NaN values: 86.12\n",
      "V140 NaN values present is: 508595 type is : float64 % of NaN values: 86.12\n",
      "V141 NaN values present is: 508595 type is : float64 % of NaN values: 86.12\n",
      "V142 NaN values present is: 508595 type is : float64 % of NaN values: 86.12\n",
      "V143 NaN values present is: 508589 type is : float64 % of NaN values: 86.12\n",
      "V144 NaN values present is: 508589 type is : float64 % of NaN values: 86.12\n",
      "V145 NaN values present is: 508589 type is : float64 % of NaN values: 86.12\n",
      "V146 NaN values present is: 508595 type is : float64 % of NaN values: 86.12\n",
      "V147 NaN values present is: 508595 type is : float64 % of NaN values: 86.12\n",
      "V148 NaN values present is: 508595 type is : float64 % of NaN values: 86.12\n",
      "V149 NaN values present is: 508595 type is : float64 % of NaN values: 86.12\n",
      "V150 NaN values present is: 508589 type is : float64 % of NaN values: 86.12\n",
      "V151 NaN values present is: 508589 type is : float64 % of NaN values: 86.12\n",
      "V152 NaN values present is: 508589 type is : float64 % of NaN values: 86.12\n",
      "V153 NaN values present is: 508595 type is : float64 % of NaN values: 86.12\n",
      "V154 NaN values present is: 508595 type is : float64 % of NaN values: 86.12\n",
      "V155 NaN values present is: 508595 type is : float64 % of NaN values: 86.12\n",
      "V156 NaN values present is: 508595 type is : float64 % of NaN values: 86.12\n",
      "V157 NaN values present is: 508595 type is : float64 % of NaN values: 86.12\n",
      "V158 NaN values present is: 508595 type is : float64 % of NaN values: 86.12\n",
      "V159 NaN values present is: 508589 type is : float64 % of NaN values: 86.12\n",
      "V160 NaN values present is: 508589 type is : float64 % of NaN values: 86.12\n",
      "V161 NaN values present is: 508595 type is : float64 % of NaN values: 86.12\n",
      "V162 NaN values present is: 508595 type is : float64 % of NaN values: 86.12\n",
      "V163 NaN values present is: 508595 type is : float64 % of NaN values: 86.12\n",
      "V164 NaN values present is: 508589 type is : float64 % of NaN values: 86.12\n",
      "V165 NaN values present is: 508589 type is : float64 % of NaN values: 86.12\n",
      "V166 NaN values present is: 508589 type is : float64 % of NaN values: 86.12\n",
      "V167 NaN values present is: 450909 type is : float64 % of NaN values: 76.36\n",
      "V168 NaN values present is: 450909 type is : float64 % of NaN values: 76.36\n",
      "V169 NaN values present is: 450721 type is : float64 % of NaN values: 76.32\n",
      "V170 NaN values present is: 450721 type is : float64 % of NaN values: 76.32\n",
      "V171 NaN values present is: 450721 type is : float64 % of NaN values: 76.32\n",
      "V172 NaN values present is: 450909 type is : float64 % of NaN values: 76.36\n",
      "V173 NaN values present is: 450909 type is : float64 % of NaN values: 76.36\n",
      "V174 NaN values present is: 450721 type is : float64 % of NaN values: 76.32\n",
      "V175 NaN values present is: 450721 type is : float64 % of NaN values: 76.32\n",
      "V176 NaN values present is: 450909 type is : float64 % of NaN values: 76.36\n",
      "V177 NaN values present is: 450909 type is : float64 % of NaN values: 76.36\n",
      "V178 NaN values present is: 450909 type is : float64 % of NaN values: 76.36\n",
      "V179 NaN values present is: 450909 type is : float64 % of NaN values: 76.36\n",
      "V180 NaN values present is: 450721 type is : float64 % of NaN values: 76.32\n",
      "V181 NaN values present is: 450909 type is : float64 % of NaN values: 76.36\n",
      "V182 NaN values present is: 450909 type is : float64 % of NaN values: 76.36\n",
      "V183 NaN values present is: 450909 type is : float64 % of NaN values: 76.36\n",
      "V184 NaN values present is: 450721 type is : float64 % of NaN values: 76.32\n",
      "V185 NaN values present is: 450721 type is : float64 % of NaN values: 76.32\n",
      "V186 NaN values present is: 450909 type is : float64 % of NaN values: 76.36\n",
      "V187 NaN values present is: 450909 type is : float64 % of NaN values: 76.36\n",
      "V188 NaN values present is: 450721 type is : float64 % of NaN values: 76.32\n",
      "V189 NaN values present is: 450721 type is : float64 % of NaN values: 76.32\n",
      "V190 NaN values present is: 450909 type is : float64 % of NaN values: 76.36\n",
      "V191 NaN values present is: 450909 type is : float64 % of NaN values: 76.36\n",
      "V192 NaN values present is: 450909 type is : float64 % of NaN values: 76.36\n",
      "V193 NaN values present is: 450909 type is : float64 % of NaN values: 76.36\n",
      "V194 NaN values present is: 450721 type is : float64 % of NaN values: 76.32\n",
      "V195 NaN values present is: 450721 type is : float64 % of NaN values: 76.32\n",
      "V196 NaN values present is: 450909 type is : float64 % of NaN values: 76.36\n",
      "V197 NaN values present is: 450721 type is : float64 % of NaN values: 76.32\n",
      "V198 NaN values present is: 450721 type is : float64 % of NaN values: 76.32\n",
      "V199 NaN values present is: 450909 type is : float64 % of NaN values: 76.36\n",
      "V200 NaN values present is: 450721 type is : float64 % of NaN values: 76.32\n",
      "V201 NaN values present is: 450721 type is : float64 % of NaN values: 76.32\n",
      "V202 NaN values present is: 450909 type is : float64 % of NaN values: 76.36\n",
      "V203 NaN values present is: 450909 type is : float64 % of NaN values: 76.36\n",
      "V204 NaN values present is: 450909 type is : float64 % of NaN values: 76.36\n",
      "V205 NaN values present is: 450909 type is : float64 % of NaN values: 76.36\n",
      "V206 NaN values present is: 450909 type is : float64 % of NaN values: 76.36\n",
      "V207 NaN values present is: 450909 type is : float64 % of NaN values: 76.36\n",
      "V208 NaN values present is: 450721 type is : float64 % of NaN values: 76.32\n",
      "V209 NaN values present is: 450721 type is : float64 % of NaN values: 76.32\n",
      "V210 NaN values present is: 450721 type is : float64 % of NaN values: 76.32\n",
      "V211 NaN values present is: 450909 type is : float64 % of NaN values: 76.36\n",
      "V212 NaN values present is: 450909 type is : float64 % of NaN values: 76.36\n",
      "V213 NaN values present is: 450909 type is : float64 % of NaN values: 76.36\n",
      "V214 NaN values present is: 450909 type is : float64 % of NaN values: 76.36\n",
      "V215 NaN values present is: 450909 type is : float64 % of NaN values: 76.36\n",
      "V216 NaN values present is: 450909 type is : float64 % of NaN values: 76.36\n",
      "V217 NaN values present is: 460110 type is : float64 % of NaN values: 77.91\n",
      "V218 NaN values present is: 460110 type is : float64 % of NaN values: 77.91\n",
      "V219 NaN values present is: 460110 type is : float64 % of NaN values: 77.91\n",
      "V220 NaN values present is: 449124 type is : float64 % of NaN values: 76.05\n",
      "V221 NaN values present is: 449124 type is : float64 % of NaN values: 76.05\n",
      "V222 NaN values present is: 449124 type is : float64 % of NaN values: 76.05\n",
      "V223 NaN values present is: 460110 type is : float64 % of NaN values: 77.91\n",
      "V224 NaN values present is: 460110 type is : float64 % of NaN values: 77.91\n",
      "V225 NaN values present is: 460110 type is : float64 % of NaN values: 77.91\n",
      "V226 NaN values present is: 460110 type is : float64 % of NaN values: 77.91\n",
      "V227 NaN values present is: 449124 type is : float64 % of NaN values: 76.05\n",
      "V228 NaN values present is: 460110 type is : float64 % of NaN values: 77.91\n",
      "V229 NaN values present is: 460110 type is : float64 % of NaN values: 77.91\n",
      "V230 NaN values present is: 460110 type is : float64 % of NaN values: 77.91\n",
      "V231 NaN values present is: 460110 type is : float64 % of NaN values: 77.91\n",
      "V232 NaN values present is: 460110 type is : float64 % of NaN values: 77.91\n",
      "V233 NaN values present is: 460110 type is : float64 % of NaN values: 77.91\n",
      "V234 NaN values present is: 449124 type is : float64 % of NaN values: 76.05\n",
      "V235 NaN values present is: 460110 type is : float64 % of NaN values: 77.91\n",
      "V236 NaN values present is: 460110 type is : float64 % of NaN values: 77.91\n",
      "V237 NaN values present is: 460110 type is : float64 % of NaN values: 77.91\n",
      "V238 NaN values present is: 449124 type is : float64 % of NaN values: 76.05\n",
      "V239 NaN values present is: 449124 type is : float64 % of NaN values: 76.05\n",
      "V240 NaN values present is: 460110 type is : float64 % of NaN values: 77.91\n",
      "V241 NaN values present is: 460110 type is : float64 % of NaN values: 77.91\n",
      "V242 NaN values present is: 460110 type is : float64 % of NaN values: 77.91\n",
      "V243 NaN values present is: 460110 type is : float64 % of NaN values: 77.91\n",
      "V244 NaN values present is: 460110 type is : float64 % of NaN values: 77.91\n",
      "V245 NaN values present is: 449124 type is : float64 % of NaN values: 76.05\n",
      "V246 NaN values present is: 460110 type is : float64 % of NaN values: 77.91\n",
      "V247 NaN values present is: 460110 type is : float64 % of NaN values: 77.91\n",
      "V248 NaN values present is: 460110 type is : float64 % of NaN values: 77.91\n",
      "V249 NaN values present is: 460110 type is : float64 % of NaN values: 77.91\n",
      "V250 NaN values present is: 449124 type is : float64 % of NaN values: 76.05\n",
      "V251 NaN values present is: 449124 type is : float64 % of NaN values: 76.05\n",
      "V252 NaN values present is: 460110 type is : float64 % of NaN values: 77.91\n",
      "V253 NaN values present is: 460110 type is : float64 % of NaN values: 77.91\n",
      "V254 NaN values present is: 460110 type is : float64 % of NaN values: 77.91\n",
      "V255 NaN values present is: 449124 type is : float64 % of NaN values: 76.05\n",
      "V256 NaN values present is: 449124 type is : float64 % of NaN values: 76.05\n",
      "V257 NaN values present is: 460110 type is : float64 % of NaN values: 77.91\n",
      "V258 NaN values present is: 460110 type is : float64 % of NaN values: 77.91\n",
      "V259 NaN values present is: 449124 type is : float64 % of NaN values: 76.05\n",
      "V260 NaN values present is: 460110 type is : float64 % of NaN values: 77.91\n",
      "V261 NaN values present is: 460110 type is : float64 % of NaN values: 77.91\n",
      "V262 NaN values present is: 460110 type is : float64 % of NaN values: 77.91\n",
      "V263 NaN values present is: 460110 type is : float64 % of NaN values: 77.91\n",
      "V264 NaN values present is: 460110 type is : float64 % of NaN values: 77.91\n",
      "V265 NaN values present is: 460110 type is : float64 % of NaN values: 77.91\n",
      "V266 NaN values present is: 460110 type is : float64 % of NaN values: 77.91\n",
      "V267 NaN values present is: 460110 type is : float64 % of NaN values: 77.91\n",
      "V268 NaN values present is: 460110 type is : float64 % of NaN values: 77.91\n",
      "V269 NaN values present is: 460110 type is : float64 % of NaN values: 77.91\n",
      "V270 NaN values present is: 449124 type is : float64 % of NaN values: 76.05\n",
      "V271 NaN values present is: 449124 type is : float64 % of NaN values: 76.05\n",
      "V272 NaN values present is: 449124 type is : float64 % of NaN values: 76.05\n",
      "V273 NaN values present is: 460110 type is : float64 % of NaN values: 77.91\n",
      "V274 NaN values present is: 460110 type is : float64 % of NaN values: 77.91\n",
      "V275 NaN values present is: 460110 type is : float64 % of NaN values: 77.91\n",
      "V276 NaN values present is: 460110 type is : float64 % of NaN values: 77.91\n",
      "V277 NaN values present is: 460110 type is : float64 % of NaN values: 77.91\n",
      "V278 NaN values present is: 460110 type is : float64 % of NaN values: 77.91\n",
      "V279 NaN values present is: 12 type is : float64 % of NaN values: 0.0\n",
      "V280 NaN values present is: 12 type is : float64 % of NaN values: 0.0\n",
      "V281 NaN values present is: 1269 type is : float64 % of NaN values: 0.21\n",
      "V282 NaN values present is: 1269 type is : float64 % of NaN values: 0.21\n",
      "V283 NaN values present is: 1269 type is : float64 % of NaN values: 0.21\n",
      "V284 NaN values present is: 12 type is : float64 % of NaN values: 0.0\n",
      "V285 NaN values present is: 12 type is : float64 % of NaN values: 0.0\n",
      "V286 NaN values present is: 12 type is : float64 % of NaN values: 0.0\n",
      "V287 NaN values present is: 12 type is : float64 % of NaN values: 0.0\n",
      "V288 NaN values present is: 1269 type is : float64 % of NaN values: 0.21\n",
      "V289 NaN values present is: 1269 type is : float64 % of NaN values: 0.21\n",
      "V290 NaN values present is: 12 type is : float64 % of NaN values: 0.0\n",
      "V291 NaN values present is: 12 type is : float64 % of NaN values: 0.0\n",
      "V292 NaN values present is: 12 type is : float64 % of NaN values: 0.0\n",
      "V293 NaN values present is: 12 type is : float64 % of NaN values: 0.0\n",
      "V294 NaN values present is: 12 type is : float64 % of NaN values: 0.0\n",
      "V295 NaN values present is: 12 type is : float64 % of NaN values: 0.0\n",
      "V296 NaN values present is: 1269 type is : float64 % of NaN values: 0.21\n",
      "V297 NaN values present is: 12 type is : float64 % of NaN values: 0.0\n",
      "V298 NaN values present is: 12 type is : float64 % of NaN values: 0.0\n",
      "V299 NaN values present is: 12 type is : float64 % of NaN values: 0.0\n",
      "V300 NaN values present is: 1269 type is : float64 % of NaN values: 0.21\n",
      "V301 NaN values present is: 1269 type is : float64 % of NaN values: 0.21\n",
      "V302 NaN values present is: 12 type is : float64 % of NaN values: 0.0\n",
      "V303 NaN values present is: 12 type is : float64 % of NaN values: 0.0\n",
      "V304 NaN values present is: 12 type is : float64 % of NaN values: 0.0\n",
      "V305 NaN values present is: 12 type is : float64 % of NaN values: 0.0\n",
      "V306 NaN values present is: 12 type is : float64 % of NaN values: 0.0\n",
      "V307 NaN values present is: 12 type is : float64 % of NaN values: 0.0\n",
      "V308 NaN values present is: 12 type is : float64 % of NaN values: 0.0\n",
      "V309 NaN values present is: 12 type is : float64 % of NaN values: 0.0\n",
      "V310 NaN values present is: 12 type is : float64 % of NaN values: 0.0\n",
      "V311 NaN values present is: 12 type is : float64 % of NaN values: 0.0\n",
      "V312 NaN values present is: 12 type is : float64 % of NaN values: 0.0\n",
      "V313 NaN values present is: 1269 type is : float64 % of NaN values: 0.21\n",
      "V314 NaN values present is: 1269 type is : float64 % of NaN values: 0.21\n",
      "V315 NaN values present is: 1269 type is : float64 % of NaN values: 0.21\n",
      "V316 NaN values present is: 12 type is : float64 % of NaN values: 0.0\n",
      "V317 NaN values present is: 12 type is : float64 % of NaN values: 0.0\n",
      "V318 NaN values present is: 12 type is : float64 % of NaN values: 0.0\n",
      "V319 NaN values present is: 12 type is : float64 % of NaN values: 0.0\n",
      "V320 NaN values present is: 12 type is : float64 % of NaN values: 0.0\n",
      "V321 NaN values present is: 12 type is : float64 % of NaN values: 0.0\n",
      "V322 NaN values present is: 508189 type is : float64 % of NaN values: 86.05\n",
      "V323 NaN values present is: 508189 type is : float64 % of NaN values: 86.05\n",
      "V324 NaN values present is: 508189 type is : float64 % of NaN values: 86.05\n",
      "V325 NaN values present is: 508189 type is : float64 % of NaN values: 86.05\n",
      "V326 NaN values present is: 508189 type is : float64 % of NaN values: 86.05\n",
      "V327 NaN values present is: 508189 type is : float64 % of NaN values: 86.05\n",
      "V328 NaN values present is: 508189 type is : float64 % of NaN values: 86.05\n",
      "V329 NaN values present is: 508189 type is : float64 % of NaN values: 86.05\n",
      "V330 NaN values present is: 508189 type is : float64 % of NaN values: 86.05\n",
      "V331 NaN values present is: 508189 type is : float64 % of NaN values: 86.05\n",
      "V332 NaN values present is: 508189 type is : float64 % of NaN values: 86.05\n",
      "V333 NaN values present is: 508189 type is : float64 % of NaN values: 86.05\n",
      "V334 NaN values present is: 508189 type is : float64 % of NaN values: 86.05\n",
      "V335 NaN values present is: 508189 type is : float64 % of NaN values: 86.05\n",
      "V336 NaN values present is: 508189 type is : float64 % of NaN values: 86.05\n",
      "V337 NaN values present is: 508189 type is : float64 % of NaN values: 86.05\n",
      "V338 NaN values present is: 508189 type is : float64 % of NaN values: 86.05\n",
      "V339 NaN values present is: 508189 type is : float64 % of NaN values: 86.05\n",
      "id_01 NaN values present is: 446307 type is : float64 % of NaN values: 75.58\n",
      "id_02 NaN values present is: 449668 type is : float64 % of NaN values: 76.15\n",
      "id_03 NaN values present is: 524216 type is : float64 % of NaN values: 88.77\n",
      "id_04 NaN values present is: 524216 type is : float64 % of NaN values: 88.77\n",
      "id_05 NaN values present is: 453675 type is : float64 % of NaN values: 76.82\n",
      "id_06 NaN values present is: 453675 type is : float64 % of NaN values: 76.82\n",
      "id_07 NaN values present is: 585385 type is : float64 % of NaN values: 99.13\n",
      "id_08 NaN values present is: 585385 type is : float64 % of NaN values: 99.13\n",
      "id_09 NaN values present is: 515614 type is : float64 % of NaN values: 87.31\n",
      "id_10 NaN values present is: 515614 type is : float64 % of NaN values: 87.31\n",
      "id_11 NaN values present is: 449562 type is : float64 % of NaN values: 76.13\n",
      "id_12 NaN values present is: 446307 type is : object % of NaN values: 75.58\n",
      "id_13 NaN values present is: 463220 type is : float64 % of NaN values: 78.44\n",
      "id_14 NaN values present is: 510496 type is : float64 % of NaN values: 86.45\n",
      "id_15 NaN values present is: 449555 type is : object % of NaN values: 76.13\n",
      "id_16 NaN values present is: 461200 type is : object % of NaN values: 78.1\n",
      "id_17 NaN values present is: 451171 type is : float64 % of NaN values: 76.4\n",
      "id_18 NaN values present is: 545427 type is : float64 % of NaN values: 92.36\n",
      "id_19 NaN values present is: 451222 type is : float64 % of NaN values: 76.41\n",
      "id_20 NaN values present is: 451279 type is : float64 % of NaN values: 76.42\n",
      "id_21 NaN values present is: 585381 type is : float64 % of NaN values: 99.13\n",
      "id_22 NaN values present is: 585371 type is : float64 % of NaN values: 99.12\n",
      "id_23 NaN values present is: 585371 type is : object % of NaN values: 99.12\n",
      "id_24 NaN values present is: 585793 type is : float64 % of NaN values: 99.2\n",
      "id_25 NaN values present is: 585408 type is : float64 % of NaN values: 99.13\n",
      "id_26 NaN values present is: 585377 type is : float64 % of NaN values: 99.13\n",
      "id_27 NaN values present is: 585371 type is : object % of NaN values: 99.12\n",
      "id_28 NaN values present is: 449562 type is : object % of NaN values: 76.13\n",
      "id_29 NaN values present is: 449562 type is : object % of NaN values: 76.13\n",
      "id_30 NaN values present is: 512975 type is : object % of NaN values: 86.87\n",
      "id_31 NaN values present is: 450258 type is : object % of NaN values: 76.25\n",
      "id_32 NaN values present is: 512954 type is : float64 % of NaN values: 86.86\n",
      "id_33 NaN values present is: 517251 type is : object % of NaN values: 87.59\n",
      "id_34 NaN values present is: 512735 type is : object % of NaN values: 86.82\n",
      "id_35 NaN values present is: 449555 type is : object % of NaN values: 76.13\n",
      "id_36 NaN values present is: 449555 type is : object % of NaN values: 76.13\n",
      "id_37 NaN values present is: 449555 type is : object % of NaN values: 76.13\n",
      "id_38 NaN values present is: 449555 type is : object % of NaN values: 76.13\n",
      "DeviceType NaN values present is: 449730 type is : object % of NaN values: 76.16\n",
      "DeviceInfo NaN values present is: 471874 type is : object % of NaN values: 79.91\n"
     ]
    }
   ],
   "source": [
    "for col in source_df.columns:\n",
    "    print(col,'NaN values present is:',source_df[col].isnull().sum(),end=\" \")\n",
    "    print('type is :',source_df[col].dtypes,end=\" \")\n",
    "    print('% of NaN values:',np.round((source_df[col].isnull().sum()/source_df.shape[0])*100,2))"
   ]
  },
  {
   "cell_type": "code",
   "execution_count": 7,
   "metadata": {},
   "outputs": [],
   "source": [
    "raw_features_df = source_df[['TransactionDT', 'TransactionAmt', 'card6', 'isFraud', 'P_emaildomain', 'R_emaildomain']].sort_values('TransactionDT')\n"
   ]
  },
  {
   "cell_type": "code",
   "execution_count": 8,
   "metadata": {},
   "outputs": [],
   "source": [
    "raw_features_df = raw_features_df[raw_features_df['TransactionAmt'] < 5000]\n"
   ]
  },
  {
   "cell_type": "code",
   "execution_count": 9,
   "metadata": {},
   "outputs": [],
   "source": [
    "raw_features_df['LogTransactionAmt'] = np.log2(raw_features_df['TransactionAmt'])"
   ]
  },
  {
   "cell_type": "code",
   "execution_count": 10,
   "metadata": {},
   "outputs": [],
   "source": [
    "raw_features_df[['P_organization', 'P_domain']] = raw_features_df['P_emaildomain'].str.split(\".\", n = 1, expand=True)\n",
    "raw_features_df[['R_organization', 'R_domain']] = raw_features_df['R_emaildomain'].str.split(\".\", n = 1, expand=True)"
   ]
  },
  {
   "cell_type": "code",
   "execution_count": 11,
   "metadata": {},
   "outputs": [],
   "source": [
    "raw_features_df['P_organization'].replace(['None', None], value=np.nan, inplace=True)\n",
    "raw_features_df['P_domain'].replace(['None', None], value=np.nan, inplace=True)\n",
    "raw_features_df['R_organization'].replace(['None', None], value=np.nan, inplace=True)\n",
    "raw_features_df['R_domain'].replace(['None', None], value=np.nan, inplace=True)"
   ]
  },
  {
   "cell_type": "code",
   "execution_count": 13,
   "metadata": {},
   "outputs": [
    {
     "data": {
      "text/plain": [
       "array([nan, 'com', 'net', 'net.mx', 'com.mx', 'es', 'de', 'edu', 'fr',\n",
       "       'co.uk', 'rr.com', 'co.jp'], dtype=object)"
      ]
     },
     "execution_count": 13,
     "metadata": {},
     "output_type": "execute_result"
    }
   ],
   "source": [
    "raw_features_df['R_domain'].unique()"
   ]
  },
  {
   "cell_type": "code",
   "execution_count": 14,
   "metadata": {},
   "outputs": [],
   "source": [
    "X_train = raw_features_df[['LogTransactionAmt', 'card6', 'P_organization', 'P_domain', 'R_organization', 'R_domain']][0:400000]\n",
    "Y_train = raw_features_df[['isFraud']][0:400000].values.flatten()\n",
    "\n",
    "X_test = raw_features_df[['LogTransactionAmt', 'card6', 'P_organization', 'P_domain', 'R_organization', 'R_domain']][400001:]\n",
    "Y_test = raw_features_df[['isFraud']][400001:].values.flatten()"
   ]
  },
  {
   "cell_type": "code",
   "execution_count": 15,
   "metadata": {},
   "outputs": [],
   "source": [
    "categorical_features=['card6','P_organization', 'P_domain']\n",
    "categorical_transformer = Pipeline(steps=[\n",
    "    ('categorical_imputer', SimpleImputer(strategy='most_frequent')),\n",
    "    ('one_hot_encoder', OneHotEncoder(handle_unknown='ignore'))])\n"
   ]
  },
  {
   "cell_type": "code",
   "execution_count": 16,
   "metadata": {},
   "outputs": [],
   "source": [
    "numerical_features=['LogTransactionAmt']\n",
    "numerical_transformer = Pipeline(steps=[\n",
    "    ('imputer', SimpleImputer(strategy='median')),\n",
    "    ('scaler', StandardScaler())])"
   ]
  },
  {
   "cell_type": "code",
   "execution_count": 17,
   "metadata": {},
   "outputs": [],
   "source": [
    "preprocessor = ColumnTransformer(\n",
    "    transformers=[\n",
    "        ('num', numerical_transformer, numerical_features),\n",
    "        ('cat', categorical_transformer, categorical_features)])"
   ]
  },
  {
   "cell_type": "code",
   "execution_count": 26,
   "metadata": {},
   "outputs": [],
   "source": [
    "clf = Pipeline(steps=[('preprocessor', preprocessor),\n",
    "                      ('classifier', RandomForestClassifier(random_state=0, class_weight='balanced', max_depth=5))])"
   ]
  },
  {
   "cell_type": "code",
   "execution_count": 27,
   "metadata": {},
   "outputs": [],
   "source": [
    "cross_validator = StratifiedShuffleSplit(2, test_size=0.3, random_state=0)\n",
    "gridSearch = GridSearchCV(clf, param_grid=dict(), cv=cross_validator)"
   ]
  },
  {
   "cell_type": "code",
   "execution_count": 34,
   "metadata": {},
   "outputs": [],
   "source": [
    "model = gridSearch.fit(X_train,Y_train)"
   ]
  },
  {
   "cell_type": "code",
   "execution_count": 35,
   "metadata": {},
   "outputs": [
    {
     "data": {
      "text/plain": [
       "0.7328541666666666"
      ]
     },
     "execution_count": 35,
     "metadata": {},
     "output_type": "execute_result"
    }
   ],
   "source": [
    "model.best_score_"
   ]
  },
  {
   "cell_type": "code",
   "execution_count": 36,
   "metadata": {},
   "outputs": [],
   "source": [
    "y_pred = model.predict(X_test)"
   ]
  },
  {
   "cell_type": "code",
   "execution_count": 37,
   "metadata": {},
   "outputs": [
    {
     "data": {
      "text/plain": [
       "0.8356334078210603"
      ]
     },
     "execution_count": 37,
     "metadata": {},
     "output_type": "execute_result"
    }
   ],
   "source": [
    "f1_score(Y_test, y_pred, average='weighted')"
   ]
  },
  {
   "cell_type": "code",
   "execution_count": 38,
   "metadata": {},
   "outputs": [
    {
     "data": {
      "text/plain": [
       "0.6221620484297186"
      ]
     },
     "execution_count": 38,
     "metadata": {},
     "output_type": "execute_result"
    }
   ],
   "source": [
    "roc_auc_score(Y_test, y_pred, average='weighted')"
   ]
  },
  {
   "cell_type": "code",
   "execution_count": 39,
   "metadata": {},
   "outputs": [
    {
     "data": {
      "text/plain": [
       "is_fraud\n",
       "0    145415\n",
       "1     45106\n",
       "dtype: int64"
      ]
     },
     "execution_count": 39,
     "metadata": {},
     "output_type": "execute_result"
    }
   ],
   "source": [
    "pd.DataFrame(y_pred, columns=['is_fraud']).groupby('is_fraud').size()"
   ]
  },
  {
   "cell_type": "code",
   "execution_count": 40,
   "metadata": {},
   "outputs": [
    {
     "data": {
      "text/plain": [
       "is_fraud\n",
       "0    183762\n",
       "1      6759\n",
       "dtype: int64"
      ]
     },
     "execution_count": 40,
     "metadata": {},
     "output_type": "execute_result"
    }
   ],
   "source": [
    "pd.DataFrame(Y_test, columns=['is_fraud']).groupby('is_fraud').size()"
   ]
  },
  {
   "cell_type": "markdown",
   "metadata": {},
   "source": [
    "# Test Data Prep"
   ]
  },
  {
   "cell_type": "code",
   "execution_count": 85,
   "metadata": {},
   "outputs": [
    {
     "name": "stderr",
     "output_type": "stream",
     "text": [
      "/Users/prashanth/opt/anaconda3/lib/python3.7/site-packages/ipykernel_launcher.py:5: SettingWithCopyWarning: \n",
      "A value is trying to be set on a copy of a slice from a DataFrame.\n",
      "Try using .loc[row_indexer,col_indexer] = value instead\n",
      "\n",
      "See the caveats in the documentation: http://pandas.pydata.org/pandas-docs/stable/user_guide/indexing.html#returning-a-view-versus-a-copy\n",
      "  \"\"\"\n"
     ]
    }
   ],
   "source": [
    "TEST_TRANSACTION_PATH = f\"{ROOT_FOLDER_PATH}/test_transaction.csv\"\n",
    "test_source_df=pd.read_csv(TEST_TRANSACTION_PATH)\n",
    "\n",
    "raw_features_test_df = test_source_df[['TransactionDT', 'card6', 'TransactionAmt', 'P_emaildomain', 'R_emaildomain']]\n",
    "raw_features_test_df['LogTransactionAmt'] = np.log2(raw_features_test_df['TransactionAmt'])\n"
   ]
  },
  {
   "cell_type": "code",
   "execution_count": 89,
   "metadata": {},
   "outputs": [],
   "source": [
    "raw_features_test_df[['P_organization', 'P_domain']] = raw_features_test_df['P_emaildomain'].str.split(\".\", n = 1, expand=True)\n",
    "raw_features_test_df[['R_organization', 'R_domain']] = raw_features_test_df['R_emaildomain'].str.split(\".\", n = 1, expand=True)\n"
   ]
  },
  {
   "cell_type": "code",
   "execution_count": 90,
   "metadata": {},
   "outputs": [],
   "source": [
    "raw_features_test_df['P_organization'].replace('None', value=np.nan, inplace=True)\n",
    "raw_features_test_df['P_domain'].replace('None', value=np.nan, inplace=True)\n",
    "raw_features_test_df['R_organization'].replace('None', value=np.nan, inplace=True)\n",
    "raw_features_test_df['R_domain'].replace('None', value=np.nan, inplace=True)\n"
   ]
  },
  {
   "cell_type": "code",
   "execution_count": 91,
   "metadata": {},
   "outputs": [],
   "source": [
    "X_test_final = raw_features_test_df[['LogTransactionAmt', 'card6', 'P_organization', 'P_domain', 'R_organization', 'R_domain']]\n",
    "y_preds_test = model.predict(X_test_final)"
   ]
  },
  {
   "cell_type": "code",
   "execution_count": 92,
   "metadata": {},
   "outputs": [
    {
     "data": {
      "text/plain": [
       "(506691,)"
      ]
     },
     "execution_count": 92,
     "metadata": {},
     "output_type": "execute_result"
    }
   ],
   "source": [
    "test_source_df['TransactionID'].shape"
   ]
  },
  {
   "cell_type": "code",
   "execution_count": 93,
   "metadata": {},
   "outputs": [
    {
     "data": {
      "text/plain": [
       "(506691, 10)"
      ]
     },
     "execution_count": 93,
     "metadata": {},
     "output_type": "execute_result"
    }
   ],
   "source": [
    "raw_features_test_df.shape"
   ]
  },
  {
   "cell_type": "code",
   "execution_count": 94,
   "metadata": {},
   "outputs": [
    {
     "data": {
      "text/plain": [
       "(506691,)"
      ]
     },
     "execution_count": 94,
     "metadata": {},
     "output_type": "execute_result"
    }
   ],
   "source": [
    "y_preds_test.shape"
   ]
  },
  {
   "cell_type": "code",
   "execution_count": 95,
   "metadata": {},
   "outputs": [
    {
     "data": {
      "text/plain": [
       "(506691, 10)"
      ]
     },
     "execution_count": 95,
     "metadata": {},
     "output_type": "execute_result"
    }
   ],
   "source": [
    "raw_features_test_df.shape"
   ]
  },
  {
   "cell_type": "code",
   "execution_count": 96,
   "metadata": {},
   "outputs": [],
   "source": [
    "output = pd.DataFrame({'TransactionID': test_source_df['TransactionID'], 'isFraud': y_preds_test})"
   ]
  },
  {
   "cell_type": "code",
   "execution_count": 97,
   "metadata": {},
   "outputs": [],
   "source": [
    "output.to_csv(f\"{ROOT_FOLDER_PATH}/output.csv\", index=False)"
   ]
  },
  {
   "cell_type": "code",
   "execution_count": null,
   "metadata": {},
   "outputs": [],
   "source": []
  }
 ],
 "metadata": {
  "kernelspec": {
   "display_name": "Python 3 (ipykernel)",
   "language": "python",
   "name": "python3"
  },
  "language_info": {
   "codemirror_mode": {
    "name": "ipython",
    "version": 3
   },
   "file_extension": ".py",
   "mimetype": "text/x-python",
   "name": "python",
   "nbconvert_exporter": "python",
   "pygments_lexer": "ipython3",
   "version": "3.9.12"
  }
 },
 "nbformat": 4,
 "nbformat_minor": 4
}
